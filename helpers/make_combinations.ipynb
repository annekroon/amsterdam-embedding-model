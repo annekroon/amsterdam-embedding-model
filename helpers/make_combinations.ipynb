{
 "cells": [
  {
   "cell_type": "code",
   "execution_count": 1,
   "metadata": {},
   "outputs": [],
   "source": [
    "import itertools\n",
    "\n",
    "basepath = \"../resources/\"\n",
    "\n",
    "def make_combinations(file):\n",
    "    a = [line.strip() for line in open(basepath + file).readlines() if len(line)>1]\n",
    "    b = a\n",
    "    combination = [pair for pair in list(itertools.product(a,b)) if pair[0] is not pair[1]]\n",
    "    with open(basepath + 'combinations_'+ file,mode='w') as fo:\n",
    "        for pair in combination:\n",
    "            fo.write(\"{} {}\\n\".format(pair[0],pair[1]))"
   ]
  },
  {
   "cell_type": "code",
   "execution_count": 2,
   "metadata": {},
   "outputs": [],
   "source": [
    "make_combinations('currency.txt')"
   ]
  },
  {
   "cell_type": "code",
   "execution_count": 26,
   "metadata": {},
   "outputs": [],
   "source": []
  }
 ],
 "metadata": {
  "kernelspec": {
   "display_name": "Python 3",
   "language": "python",
   "name": "python3"
  },
  "language_info": {
   "codemirror_mode": {
    "name": "ipython",
    "version": 3
   },
   "file_extension": ".py",
   "mimetype": "text/x-python",
   "name": "python",
   "nbconvert_exporter": "python",
   "pygments_lexer": "ipython3",
   "version": "3.7.2"
  }
 },
 "nbformat": 4,
 "nbformat_minor": 2
}
